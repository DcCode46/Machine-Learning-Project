{
  "nbformat": 4,
  "nbformat_minor": 0,
  "metadata": {
    "colab": {
      "provenance": []
    },
    "kernelspec": {
      "name": "python3",
      "display_name": "Python 3"
    },
    "language_info": {
      "name": "python"
    }
  },
  "cells": [
    {
      "cell_type": "markdown",
      "source": [
        "# **1. Import Library**"
      ],
      "metadata": {
        "id": "fKADPWcFKlj3"
      }
    },
    {
      "cell_type": "markdown",
      "source": [
        "Pada tahap ini, Anda perlu mengimpor beberapa pustaka (library) Python yang dibutuhkan untuk analisis data dan pembangunan model machine learning."
      ],
      "metadata": {
        "id": "LgA3ERnVn84N"
      }
    },
    {
      "cell_type": "code",
      "source": [
        "# Pustaka untuk manipulasi data\n",
        "import pandas as pd\n",
        "import numpy as np\n",
        "\n",
        "# Pustaka untuk visualisasi\n",
        "import matplotlib.pyplot as plt\n",
        "import seaborn as sns\n",
        "\n",
        "# Pustaka untuk preprocessing dan machine learning\n",
        "from sklearn.model_selection import train_test_split, GridSearchCV, RandomizedSearchCV\n",
        "from sklearn.linear_model import LogisticRegression\n",
        "from sklearn.tree import DecisionTreeClassifier\n",
        "from sklearn.ensemble import RandomForestClassifier\n",
        "from sklearn.neighbors import KNeighborsClassifier\n",
        "from sklearn.metrics import accuracy_score, classification_report\n",
        "\n",
        "# Pustaka untuk evaluasi model\n",
        "from sklearn.metrics import silhouette_score"
      ],
      "metadata": {
        "id": "GHCGNTyrM5fS"
      },
      "execution_count": 13,
      "outputs": []
    },
    {
      "cell_type": "markdown",
      "source": [
        "# **2. Memuat Dataset dari Hasil Clustering**"
      ],
      "metadata": {
        "id": "f3YIEnAFKrKL"
      }
    },
    {
      "cell_type": "markdown",
      "source": [
        "Memuat dataset hasil clustering dari file CSV ke dalam variabel DataFrame."
      ],
      "metadata": {
        "id": "Ey3ItwTen_7E"
      }
    },
    {
      "cell_type": "code",
      "source": [
        "# Akan menampilkan 5 baris pertama dari Dataframe\n",
        "file_path = \"https://raw.githubusercontent.com/DcCode46/Machine-Learning-Project/refs/heads/main/all_dataset.csv\"\n",
        "all_dataset = pd.read_csv(file_path)\n",
        "all_dataset.head()"
      ],
      "metadata": {
        "id": "QbdhFPGHQxMO",
        "colab": {
          "base_uri": "https://localhost:8080/",
          "height": 206
        },
        "outputId": "ff805ff2-0ba2-4238-dac0-ade2041f5c5f"
      },
      "execution_count": 5,
      "outputs": [
        {
          "output_type": "execute_result",
          "data": {
            "text/plain": [
              "   provinsi  jenis  daerah  tahun  periode  cluster       pca1      pca2\n",
              "0         0      0       2    1.0        0        0 -17.165858  2.073232\n",
              "1         0      0       2    1.0        0        0 -17.165858  2.073232\n",
              "2         0      0       2    1.0        0        0 -17.165858  2.073232\n",
              "3         0      0       2    1.0        0        0 -17.165858  2.073232\n",
              "4         0      0       2    1.0        0        0 -17.165858  2.073232"
            ],
            "text/html": [
              "\n",
              "  <div id=\"df-57718821-35be-4049-9c76-f9396ded20b0\" class=\"colab-df-container\">\n",
              "    <div>\n",
              "<style scoped>\n",
              "    .dataframe tbody tr th:only-of-type {\n",
              "        vertical-align: middle;\n",
              "    }\n",
              "\n",
              "    .dataframe tbody tr th {\n",
              "        vertical-align: top;\n",
              "    }\n",
              "\n",
              "    .dataframe thead th {\n",
              "        text-align: right;\n",
              "    }\n",
              "</style>\n",
              "<table border=\"1\" class=\"dataframe\">\n",
              "  <thead>\n",
              "    <tr style=\"text-align: right;\">\n",
              "      <th></th>\n",
              "      <th>provinsi</th>\n",
              "      <th>jenis</th>\n",
              "      <th>daerah</th>\n",
              "      <th>tahun</th>\n",
              "      <th>periode</th>\n",
              "      <th>cluster</th>\n",
              "      <th>pca1</th>\n",
              "      <th>pca2</th>\n",
              "    </tr>\n",
              "  </thead>\n",
              "  <tbody>\n",
              "    <tr>\n",
              "      <th>0</th>\n",
              "      <td>0</td>\n",
              "      <td>0</td>\n",
              "      <td>2</td>\n",
              "      <td>1.0</td>\n",
              "      <td>0</td>\n",
              "      <td>0</td>\n",
              "      <td>-17.165858</td>\n",
              "      <td>2.073232</td>\n",
              "    </tr>\n",
              "    <tr>\n",
              "      <th>1</th>\n",
              "      <td>0</td>\n",
              "      <td>0</td>\n",
              "      <td>2</td>\n",
              "      <td>1.0</td>\n",
              "      <td>0</td>\n",
              "      <td>0</td>\n",
              "      <td>-17.165858</td>\n",
              "      <td>2.073232</td>\n",
              "    </tr>\n",
              "    <tr>\n",
              "      <th>2</th>\n",
              "      <td>0</td>\n",
              "      <td>0</td>\n",
              "      <td>2</td>\n",
              "      <td>1.0</td>\n",
              "      <td>0</td>\n",
              "      <td>0</td>\n",
              "      <td>-17.165858</td>\n",
              "      <td>2.073232</td>\n",
              "    </tr>\n",
              "    <tr>\n",
              "      <th>3</th>\n",
              "      <td>0</td>\n",
              "      <td>0</td>\n",
              "      <td>2</td>\n",
              "      <td>1.0</td>\n",
              "      <td>0</td>\n",
              "      <td>0</td>\n",
              "      <td>-17.165858</td>\n",
              "      <td>2.073232</td>\n",
              "    </tr>\n",
              "    <tr>\n",
              "      <th>4</th>\n",
              "      <td>0</td>\n",
              "      <td>0</td>\n",
              "      <td>2</td>\n",
              "      <td>1.0</td>\n",
              "      <td>0</td>\n",
              "      <td>0</td>\n",
              "      <td>-17.165858</td>\n",
              "      <td>2.073232</td>\n",
              "    </tr>\n",
              "  </tbody>\n",
              "</table>\n",
              "</div>\n",
              "    <div class=\"colab-df-buttons\">\n",
              "\n",
              "  <div class=\"colab-df-container\">\n",
              "    <button class=\"colab-df-convert\" onclick=\"convertToInteractive('df-57718821-35be-4049-9c76-f9396ded20b0')\"\n",
              "            title=\"Convert this dataframe to an interactive table.\"\n",
              "            style=\"display:none;\">\n",
              "\n",
              "  <svg xmlns=\"http://www.w3.org/2000/svg\" height=\"24px\" viewBox=\"0 -960 960 960\">\n",
              "    <path d=\"M120-120v-720h720v720H120Zm60-500h600v-160H180v160Zm220 220h160v-160H400v160Zm0 220h160v-160H400v160ZM180-400h160v-160H180v160Zm440 0h160v-160H620v160ZM180-180h160v-160H180v160Zm440 0h160v-160H620v160Z\"/>\n",
              "  </svg>\n",
              "    </button>\n",
              "\n",
              "  <style>\n",
              "    .colab-df-container {\n",
              "      display:flex;\n",
              "      gap: 12px;\n",
              "    }\n",
              "\n",
              "    .colab-df-convert {\n",
              "      background-color: #E8F0FE;\n",
              "      border: none;\n",
              "      border-radius: 50%;\n",
              "      cursor: pointer;\n",
              "      display: none;\n",
              "      fill: #1967D2;\n",
              "      height: 32px;\n",
              "      padding: 0 0 0 0;\n",
              "      width: 32px;\n",
              "    }\n",
              "\n",
              "    .colab-df-convert:hover {\n",
              "      background-color: #E2EBFA;\n",
              "      box-shadow: 0px 1px 2px rgba(60, 64, 67, 0.3), 0px 1px 3px 1px rgba(60, 64, 67, 0.15);\n",
              "      fill: #174EA6;\n",
              "    }\n",
              "\n",
              "    .colab-df-buttons div {\n",
              "      margin-bottom: 4px;\n",
              "    }\n",
              "\n",
              "    [theme=dark] .colab-df-convert {\n",
              "      background-color: #3B4455;\n",
              "      fill: #D2E3FC;\n",
              "    }\n",
              "\n",
              "    [theme=dark] .colab-df-convert:hover {\n",
              "      background-color: #434B5C;\n",
              "      box-shadow: 0px 1px 3px 1px rgba(0, 0, 0, 0.15);\n",
              "      filter: drop-shadow(0px 1px 2px rgba(0, 0, 0, 0.3));\n",
              "      fill: #FFFFFF;\n",
              "    }\n",
              "  </style>\n",
              "\n",
              "    <script>\n",
              "      const buttonEl =\n",
              "        document.querySelector('#df-57718821-35be-4049-9c76-f9396ded20b0 button.colab-df-convert');\n",
              "      buttonEl.style.display =\n",
              "        google.colab.kernel.accessAllowed ? 'block' : 'none';\n",
              "\n",
              "      async function convertToInteractive(key) {\n",
              "        const element = document.querySelector('#df-57718821-35be-4049-9c76-f9396ded20b0');\n",
              "        const dataTable =\n",
              "          await google.colab.kernel.invokeFunction('convertToInteractive',\n",
              "                                                    [key], {});\n",
              "        if (!dataTable) return;\n",
              "\n",
              "        const docLinkHtml = 'Like what you see? Visit the ' +\n",
              "          '<a target=\"_blank\" href=https://colab.research.google.com/notebooks/data_table.ipynb>data table notebook</a>'\n",
              "          + ' to learn more about interactive tables.';\n",
              "        element.innerHTML = '';\n",
              "        dataTable['output_type'] = 'display_data';\n",
              "        await google.colab.output.renderOutput(dataTable, element);\n",
              "        const docLink = document.createElement('div');\n",
              "        docLink.innerHTML = docLinkHtml;\n",
              "        element.appendChild(docLink);\n",
              "      }\n",
              "    </script>\n",
              "  </div>\n",
              "\n",
              "\n",
              "<div id=\"df-a5598f3e-4693-4baa-8635-e155ac8b3838\">\n",
              "  <button class=\"colab-df-quickchart\" onclick=\"quickchart('df-a5598f3e-4693-4baa-8635-e155ac8b3838')\"\n",
              "            title=\"Suggest charts\"\n",
              "            style=\"display:none;\">\n",
              "\n",
              "<svg xmlns=\"http://www.w3.org/2000/svg\" height=\"24px\"viewBox=\"0 0 24 24\"\n",
              "     width=\"24px\">\n",
              "    <g>\n",
              "        <path d=\"M19 3H5c-1.1 0-2 .9-2 2v14c0 1.1.9 2 2 2h14c1.1 0 2-.9 2-2V5c0-1.1-.9-2-2-2zM9 17H7v-7h2v7zm4 0h-2V7h2v10zm4 0h-2v-4h2v4z\"/>\n",
              "    </g>\n",
              "</svg>\n",
              "  </button>\n",
              "\n",
              "<style>\n",
              "  .colab-df-quickchart {\n",
              "      --bg-color: #E8F0FE;\n",
              "      --fill-color: #1967D2;\n",
              "      --hover-bg-color: #E2EBFA;\n",
              "      --hover-fill-color: #174EA6;\n",
              "      --disabled-fill-color: #AAA;\n",
              "      --disabled-bg-color: #DDD;\n",
              "  }\n",
              "\n",
              "  [theme=dark] .colab-df-quickchart {\n",
              "      --bg-color: #3B4455;\n",
              "      --fill-color: #D2E3FC;\n",
              "      --hover-bg-color: #434B5C;\n",
              "      --hover-fill-color: #FFFFFF;\n",
              "      --disabled-bg-color: #3B4455;\n",
              "      --disabled-fill-color: #666;\n",
              "  }\n",
              "\n",
              "  .colab-df-quickchart {\n",
              "    background-color: var(--bg-color);\n",
              "    border: none;\n",
              "    border-radius: 50%;\n",
              "    cursor: pointer;\n",
              "    display: none;\n",
              "    fill: var(--fill-color);\n",
              "    height: 32px;\n",
              "    padding: 0;\n",
              "    width: 32px;\n",
              "  }\n",
              "\n",
              "  .colab-df-quickchart:hover {\n",
              "    background-color: var(--hover-bg-color);\n",
              "    box-shadow: 0 1px 2px rgba(60, 64, 67, 0.3), 0 1px 3px 1px rgba(60, 64, 67, 0.15);\n",
              "    fill: var(--button-hover-fill-color);\n",
              "  }\n",
              "\n",
              "  .colab-df-quickchart-complete:disabled,\n",
              "  .colab-df-quickchart-complete:disabled:hover {\n",
              "    background-color: var(--disabled-bg-color);\n",
              "    fill: var(--disabled-fill-color);\n",
              "    box-shadow: none;\n",
              "  }\n",
              "\n",
              "  .colab-df-spinner {\n",
              "    border: 2px solid var(--fill-color);\n",
              "    border-color: transparent;\n",
              "    border-bottom-color: var(--fill-color);\n",
              "    animation:\n",
              "      spin 1s steps(1) infinite;\n",
              "  }\n",
              "\n",
              "  @keyframes spin {\n",
              "    0% {\n",
              "      border-color: transparent;\n",
              "      border-bottom-color: var(--fill-color);\n",
              "      border-left-color: var(--fill-color);\n",
              "    }\n",
              "    20% {\n",
              "      border-color: transparent;\n",
              "      border-left-color: var(--fill-color);\n",
              "      border-top-color: var(--fill-color);\n",
              "    }\n",
              "    30% {\n",
              "      border-color: transparent;\n",
              "      border-left-color: var(--fill-color);\n",
              "      border-top-color: var(--fill-color);\n",
              "      border-right-color: var(--fill-color);\n",
              "    }\n",
              "    40% {\n",
              "      border-color: transparent;\n",
              "      border-right-color: var(--fill-color);\n",
              "      border-top-color: var(--fill-color);\n",
              "    }\n",
              "    60% {\n",
              "      border-color: transparent;\n",
              "      border-right-color: var(--fill-color);\n",
              "    }\n",
              "    80% {\n",
              "      border-color: transparent;\n",
              "      border-right-color: var(--fill-color);\n",
              "      border-bottom-color: var(--fill-color);\n",
              "    }\n",
              "    90% {\n",
              "      border-color: transparent;\n",
              "      border-bottom-color: var(--fill-color);\n",
              "    }\n",
              "  }\n",
              "</style>\n",
              "\n",
              "  <script>\n",
              "    async function quickchart(key) {\n",
              "      const quickchartButtonEl =\n",
              "        document.querySelector('#' + key + ' button');\n",
              "      quickchartButtonEl.disabled = true;  // To prevent multiple clicks.\n",
              "      quickchartButtonEl.classList.add('colab-df-spinner');\n",
              "      try {\n",
              "        const charts = await google.colab.kernel.invokeFunction(\n",
              "            'suggestCharts', [key], {});\n",
              "      } catch (error) {\n",
              "        console.error('Error during call to suggestCharts:', error);\n",
              "      }\n",
              "      quickchartButtonEl.classList.remove('colab-df-spinner');\n",
              "      quickchartButtonEl.classList.add('colab-df-quickchart-complete');\n",
              "    }\n",
              "    (() => {\n",
              "      let quickchartButtonEl =\n",
              "        document.querySelector('#df-a5598f3e-4693-4baa-8635-e155ac8b3838 button');\n",
              "      quickchartButtonEl.style.display =\n",
              "        google.colab.kernel.accessAllowed ? 'block' : 'none';\n",
              "    })();\n",
              "  </script>\n",
              "</div>\n",
              "\n",
              "    </div>\n",
              "  </div>\n"
            ],
            "application/vnd.google.colaboratory.intrinsic+json": {
              "type": "dataframe",
              "variable_name": "all_dataset",
              "summary": "{\n  \"name\": \"all_dataset\",\n  \"rows\": 6930,\n  \"fields\": [\n    {\n      \"column\": \"provinsi\",\n      \"properties\": {\n        \"dtype\": \"number\",\n        \"std\": 10,\n        \"min\": 0,\n        \"max\": 34,\n        \"num_unique_values\": 35,\n        \"samples\": [\n          28,\n          4,\n          31\n        ],\n        \"semantic_type\": \"\",\n        \"description\": \"\"\n      }\n    },\n    {\n      \"column\": \"jenis\",\n      \"properties\": {\n        \"dtype\": \"number\",\n        \"std\": 0,\n        \"min\": 0,\n        \"max\": 2,\n        \"num_unique_values\": 3,\n        \"samples\": [\n          0,\n          1,\n          2\n        ],\n        \"semantic_type\": \"\",\n        \"description\": \"\"\n      }\n    },\n    {\n      \"column\": \"daerah\",\n      \"properties\": {\n        \"dtype\": \"number\",\n        \"std\": 0,\n        \"min\": 0,\n        \"max\": 2,\n        \"num_unique_values\": 3,\n        \"samples\": [\n          2,\n          0,\n          1\n        ],\n        \"semantic_type\": \"\",\n        \"description\": \"\"\n      }\n    },\n    {\n      \"column\": \"tahun\",\n      \"properties\": {\n        \"dtype\": \"number\",\n        \"std\": 0.38572243882574525,\n        \"min\": 0.0,\n        \"max\": 1.0,\n        \"num_unique_values\": 2,\n        \"samples\": [\n          0.0,\n          1.0\n        ],\n        \"semantic_type\": \"\",\n        \"description\": \"\"\n      }\n    },\n    {\n      \"column\": \"periode\",\n      \"properties\": {\n        \"dtype\": \"number\",\n        \"std\": 0,\n        \"min\": 0,\n        \"max\": 1,\n        \"num_unique_values\": 2,\n        \"samples\": [\n          1,\n          0\n        ],\n        \"semantic_type\": \"\",\n        \"description\": \"\"\n      }\n    },\n    {\n      \"column\": \"cluster\",\n      \"properties\": {\n        \"dtype\": \"number\",\n        \"std\": 0,\n        \"min\": 0,\n        \"max\": 1,\n        \"num_unique_values\": 2,\n        \"samples\": [\n          1,\n          0\n        ],\n        \"semantic_type\": \"\",\n        \"description\": \"\"\n      }\n    },\n    {\n      \"column\": \"pca1\",\n      \"properties\": {\n        \"dtype\": \"number\",\n        \"std\": 10.19877489607791,\n        \"min\": -17.16585758611165,\n        \"max\": 17.16585758611165,\n        \"num_unique_values\": 42,\n        \"samples\": [\n          -4.039025314379209,\n          -8.07805062875842\n        ],\n        \"semantic_type\": \"\",\n        \"description\": \"\"\n      }\n    },\n    {\n      \"column\": \"pca2\",\n      \"properties\": {\n        \"dtype\": \"number\",\n        \"std\": 1.7607652300084384,\n        \"min\": -3.020756136091981,\n        \"max\": 2.0732324577040795,\n        \"num_unique_values\": 55,\n        \"samples\": [\n          0.6712791413537749,\n          0.6712791413537719\n        ],\n        \"semantic_type\": \"\",\n        \"description\": \"\"\n      }\n    }\n  ]\n}"
            }
          },
          "metadata": {},
          "execution_count": 5
        }
      ]
    },
    {
      "cell_type": "markdown",
      "source": [
        "# **3. Data Splitting**"
      ],
      "metadata": {
        "id": "KkPem5eWL2UP"
      }
    },
    {
      "cell_type": "markdown",
      "source": [
        "Tahap Data Splitting bertujuan untuk memisahkan dataset menjadi dua bagian: data latih (training set) dan data uji (test set)."
      ],
      "metadata": {
        "id": "YYj1rl_JNI9Y"
      }
    },
    {
      "cell_type": "code",
      "source": [
        "# Pastikan nama kolom provinsi sesuai dengan dataset Anda\n",
        "provinsi_column = 'provinsi'  # Ganti dengan nama kolom provinsi yang benar\n",
        "\n",
        "# Periksa apakah kolom provinsi ada dalam dataset\n",
        "if provinsi_column in all_dataset.columns:\n",
        "    X = all_dataset.drop(columns=[provinsi_column])  # Fitur (tanpa provinsi)\n",
        "    y = all_dataset[provinsi_column]  # provinsi (label)\n",
        "\n",
        "    # Split data menjadi training dan test set (80% training, 20% testing)\n",
        "    X_train, X_test, y_train, y_test = train_test_split(X, y, test_size=0.2, random_state=42, stratify=y)\n",
        "\n",
        "    print(\"✅ Data berhasil dibagi menjadi Training dan Test Set untuk klasifikasi!\")\n",
        "    print(f\"🔹 Jumlah data latih: {X_train.shape[0]} sampel\")\n",
        "    print(f\"🔹 Jumlah data uji: {X_test.shape[0]} sampel\")\n",
        "\n",
        "else:\n",
        "    raise ValueError(\"❌ Kolom provinsi tidak ditemukan dalam dataset! Pastikan nama provinsi benar.\")"
      ],
      "metadata": {
        "id": "OubAW-7ONKVj",
        "colab": {
          "base_uri": "https://localhost:8080/"
        },
        "outputId": "3c2e6082-d66c-4535-bb93-e62b55f48aed"
      },
      "execution_count": 6,
      "outputs": [
        {
          "output_type": "stream",
          "name": "stdout",
          "text": [
            "✅ Data berhasil dibagi menjadi Training dan Test Set untuk klasifikasi!\n",
            "🔹 Jumlah data latih: 5544 sampel\n",
            "🔹 Jumlah data uji: 1386 sampel\n"
          ]
        }
      ]
    },
    {
      "cell_type": "markdown",
      "source": [
        "# **4. Membangun Model Klasifikasi**\n"
      ],
      "metadata": {
        "id": "IVPbB03CMhTT"
      }
    },
    {
      "cell_type": "markdown",
      "source": [
        "## **a. Membangun Model Klasifikasi**"
      ],
      "metadata": {
        "id": "Ned1pL9zMmBK"
      }
    },
    {
      "cell_type": "markdown",
      "source": [
        "Setelah memilih algoritma klasifikasi yang sesuai, langkah selanjutnya adalah melatih model menggunakan data latih.\n",
        "\n",
        "Berikut adalah rekomendasi tahapannya.\n",
        "1. Pilih algoritma klasifikasi yang sesuai, seperti Logistic Regression, Decision Tree, Random Forest, atau K-Nearest Neighbors (KNN).\n",
        "2. Latih model menggunakan data latih."
      ],
      "metadata": {
        "id": "WAWzPOE4Nkti"
      }
    },
    {
      "cell_type": "code",
      "source": [
        "from sklearn.linear_model import LogisticRegression\n",
        "from sklearn.tree import DecisionTreeClassifier\n",
        "from sklearn.ensemble import RandomForestClassifier\n",
        "from sklearn.neighbors import KNeighborsClassifier\n",
        "from sklearn.metrics import accuracy_score, classification_report\n",
        "\n",
        "# Inisialisasi model\n",
        "models = {\n",
        "    \"Logistic Regression\": LogisticRegression(max_iter=500),\n",
        "    \"Decision Tree\": DecisionTreeClassifier(random_state=42),\n",
        "    \"Random Forest\": RandomForestClassifier(n_estimators=100, random_state=42),\n",
        "    \"K-Nearest Neighbors\": KNeighborsClassifier(n_neighbors=5)\n",
        "}\n",
        "\n",
        "# Latih dan evaluasi setiap model\n",
        "for name, model in models.items():\n",
        "    model.fit(X_train, y_train)  # Latih model\n",
        "    y_pred = model.predict(X_test)  # Prediksi\n",
        "\n",
        "    # Evaluasi akurasi\n",
        "    accuracy = accuracy_score(y_test, y_pred)\n",
        "    print(f\"🔹 {name} Accuracy: {accuracy:.4f}\")\n",
        "    print(classification_report(y_test, y_pred))\n"
      ],
      "metadata": {
        "colab": {
          "base_uri": "https://localhost:8080/"
        },
        "id": "hA2Il4Ca0SzZ",
        "outputId": "6cf3f4bf-62e4-4d22-9cd1-4f511e9e5b11"
      },
      "execution_count": 7,
      "outputs": [
        {
          "output_type": "stream",
          "name": "stderr",
          "text": [
            "/usr/local/lib/python3.11/dist-packages/sklearn/linear_model/_logistic.py:465: ConvergenceWarning: lbfgs failed to converge (status=1):\n",
            "STOP: TOTAL NO. of ITERATIONS REACHED LIMIT.\n",
            "\n",
            "Increase the number of iterations (max_iter) or scale the data as shown in:\n",
            "    https://scikit-learn.org/stable/modules/preprocessing.html\n",
            "Please also refer to the documentation for alternative solver options:\n",
            "    https://scikit-learn.org/stable/modules/linear_model.html#logistic-regression\n",
            "  n_iter_i = _check_optimize_result(\n"
          ]
        },
        {
          "output_type": "stream",
          "name": "stdout",
          "text": [
            "🔹 Logistic Regression Accuracy: 0.9048\n",
            "              precision    recall  f1-score   support\n",
            "\n",
            "           0       0.95      1.00      0.97        39\n",
            "           1       0.76      0.95      0.84        40\n",
            "           2       0.82      0.70      0.76        40\n",
            "           3       0.82      0.68      0.74        40\n",
            "           4       0.59      0.62      0.60        39\n",
            "           5       0.61      0.68      0.64        40\n",
            "           6       0.91      0.80      0.85        40\n",
            "           7       1.00      1.00      1.00        40\n",
            "           8       1.00      0.92      0.96        39\n",
            "           9       0.93      1.00      0.96        39\n",
            "          10       1.00      1.00      1.00        40\n",
            "          11       1.00      1.00      1.00        40\n",
            "          12       1.00      1.00      1.00        39\n",
            "          13       1.00      1.00      1.00        39\n",
            "          14       1.00      1.00      1.00        40\n",
            "          15       1.00      1.00      1.00        39\n",
            "          16       1.00      1.00      1.00        39\n",
            "          17       1.00      1.00      1.00        40\n",
            "          18       1.00      1.00      1.00        40\n",
            "          19       1.00      1.00      1.00        39\n",
            "          20       1.00      1.00      1.00        40\n",
            "          21       1.00      1.00      1.00        39\n",
            "          22       0.98      1.00      0.99        40\n",
            "          23       1.00      0.93      0.96        40\n",
            "          24       0.95      0.95      0.95        39\n",
            "          25       0.93      0.97      0.95        40\n",
            "          26       0.97      0.85      0.90        39\n",
            "          27       0.76      0.78      0.77        40\n",
            "          28       0.77      0.75      0.76        40\n",
            "          29       0.89      1.00      0.94        39\n",
            "          30       1.00      0.88      0.93        40\n",
            "          31       0.78      0.78      0.78        40\n",
            "          32       0.76      0.70      0.73        40\n",
            "          33       0.79      0.77      0.78        39\n",
            "          34       0.82      1.00      0.90        40\n",
            "\n",
            "    accuracy                           0.90      1386\n",
            "   macro avg       0.91      0.91      0.90      1386\n",
            "weighted avg       0.91      0.90      0.90      1386\n",
            "\n",
            "🔹 Decision Tree Accuracy: 1.0000\n",
            "              precision    recall  f1-score   support\n",
            "\n",
            "           0       1.00      1.00      1.00        39\n",
            "           1       1.00      1.00      1.00        40\n",
            "           2       1.00      1.00      1.00        40\n",
            "           3       1.00      1.00      1.00        40\n",
            "           4       1.00      1.00      1.00        39\n",
            "           5       1.00      1.00      1.00        40\n",
            "           6       1.00      1.00      1.00        40\n",
            "           7       1.00      1.00      1.00        40\n",
            "           8       1.00      1.00      1.00        39\n",
            "           9       1.00      1.00      1.00        39\n",
            "          10       1.00      1.00      1.00        40\n",
            "          11       1.00      1.00      1.00        40\n",
            "          12       1.00      1.00      1.00        39\n",
            "          13       1.00      1.00      1.00        39\n",
            "          14       1.00      1.00      1.00        40\n",
            "          15       1.00      1.00      1.00        39\n",
            "          16       1.00      1.00      1.00        39\n",
            "          17       1.00      1.00      1.00        40\n",
            "          18       1.00      1.00      1.00        40\n",
            "          19       1.00      1.00      1.00        39\n",
            "          20       1.00      1.00      1.00        40\n",
            "          21       1.00      1.00      1.00        39\n",
            "          22       1.00      1.00      1.00        40\n",
            "          23       1.00      1.00      1.00        40\n",
            "          24       1.00      1.00      1.00        39\n",
            "          25       1.00      1.00      1.00        40\n",
            "          26       1.00      1.00      1.00        39\n",
            "          27       1.00      1.00      1.00        40\n",
            "          28       1.00      1.00      1.00        40\n",
            "          29       1.00      1.00      1.00        39\n",
            "          30       1.00      1.00      1.00        40\n",
            "          31       1.00      1.00      1.00        40\n",
            "          32       1.00      1.00      1.00        40\n",
            "          33       1.00      1.00      1.00        39\n",
            "          34       1.00      1.00      1.00        40\n",
            "\n",
            "    accuracy                           1.00      1386\n",
            "   macro avg       1.00      1.00      1.00      1386\n",
            "weighted avg       1.00      1.00      1.00      1386\n",
            "\n",
            "🔹 Random Forest Accuracy: 1.0000\n",
            "              precision    recall  f1-score   support\n",
            "\n",
            "           0       1.00      1.00      1.00        39\n",
            "           1       1.00      1.00      1.00        40\n",
            "           2       1.00      1.00      1.00        40\n",
            "           3       1.00      1.00      1.00        40\n",
            "           4       1.00      1.00      1.00        39\n",
            "           5       1.00      1.00      1.00        40\n",
            "           6       1.00      1.00      1.00        40\n",
            "           7       1.00      1.00      1.00        40\n",
            "           8       1.00      1.00      1.00        39\n",
            "           9       1.00      1.00      1.00        39\n",
            "          10       1.00      1.00      1.00        40\n",
            "          11       1.00      1.00      1.00        40\n",
            "          12       1.00      1.00      1.00        39\n",
            "          13       1.00      1.00      1.00        39\n",
            "          14       1.00      1.00      1.00        40\n",
            "          15       1.00      1.00      1.00        39\n",
            "          16       1.00      1.00      1.00        39\n",
            "          17       1.00      1.00      1.00        40\n",
            "          18       1.00      1.00      1.00        40\n",
            "          19       1.00      1.00      1.00        39\n",
            "          20       1.00      1.00      1.00        40\n",
            "          21       1.00      1.00      1.00        39\n",
            "          22       1.00      1.00      1.00        40\n",
            "          23       1.00      1.00      1.00        40\n",
            "          24       1.00      1.00      1.00        39\n",
            "          25       1.00      1.00      1.00        40\n",
            "          26       1.00      1.00      1.00        39\n",
            "          27       1.00      1.00      1.00        40\n",
            "          28       1.00      1.00      1.00        40\n",
            "          29       1.00      1.00      1.00        39\n",
            "          30       1.00      1.00      1.00        40\n",
            "          31       1.00      1.00      1.00        40\n",
            "          32       1.00      1.00      1.00        40\n",
            "          33       1.00      1.00      1.00        39\n",
            "          34       1.00      1.00      1.00        40\n",
            "\n",
            "    accuracy                           1.00      1386\n",
            "   macro avg       1.00      1.00      1.00      1386\n",
            "weighted avg       1.00      1.00      1.00      1386\n",
            "\n",
            "🔹 K-Nearest Neighbors Accuracy: 1.0000\n",
            "              precision    recall  f1-score   support\n",
            "\n",
            "           0       1.00      1.00      1.00        39\n",
            "           1       1.00      1.00      1.00        40\n",
            "           2       1.00      1.00      1.00        40\n",
            "           3       1.00      1.00      1.00        40\n",
            "           4       1.00      1.00      1.00        39\n",
            "           5       1.00      1.00      1.00        40\n",
            "           6       1.00      1.00      1.00        40\n",
            "           7       1.00      1.00      1.00        40\n",
            "           8       1.00      1.00      1.00        39\n",
            "           9       1.00      1.00      1.00        39\n",
            "          10       1.00      1.00      1.00        40\n",
            "          11       1.00      1.00      1.00        40\n",
            "          12       1.00      1.00      1.00        39\n",
            "          13       1.00      1.00      1.00        39\n",
            "          14       1.00      1.00      1.00        40\n",
            "          15       1.00      1.00      1.00        39\n",
            "          16       1.00      1.00      1.00        39\n",
            "          17       1.00      1.00      1.00        40\n",
            "          18       1.00      1.00      1.00        40\n",
            "          19       1.00      1.00      1.00        39\n",
            "          20       1.00      1.00      1.00        40\n",
            "          21       1.00      1.00      1.00        39\n",
            "          22       1.00      1.00      1.00        40\n",
            "          23       1.00      1.00      1.00        40\n",
            "          24       1.00      1.00      1.00        39\n",
            "          25       1.00      1.00      1.00        40\n",
            "          26       1.00      1.00      1.00        39\n",
            "          27       1.00      1.00      1.00        40\n",
            "          28       1.00      1.00      1.00        40\n",
            "          29       1.00      1.00      1.00        39\n",
            "          30       1.00      1.00      1.00        40\n",
            "          31       1.00      1.00      1.00        40\n",
            "          32       1.00      1.00      1.00        40\n",
            "          33       1.00      1.00      1.00        39\n",
            "          34       1.00      1.00      1.00        40\n",
            "\n",
            "    accuracy                           1.00      1386\n",
            "   macro avg       1.00      1.00      1.00      1386\n",
            "weighted avg       1.00      1.00      1.00      1386\n",
            "\n"
          ]
        }
      ]
    },
    {
      "cell_type": "markdown",
      "source": [
        "Tulis narasi atau penjelasan algoritma yang Anda gunakan."
      ],
      "metadata": {
        "id": "seYoHNY3XU1y"
      }
    },
    {
      "cell_type": "markdown",
      "source": [
        "## **b. Evaluasi Model Klasifikasi**"
      ],
      "metadata": {
        "id": "ergzChZFEL-O"
      }
    },
    {
      "cell_type": "markdown",
      "source": [
        "Berikut adalah **rekomendasi** tahapannya.\n",
        "1. Lakukan prediksi menggunakan data uji.\n",
        "2. Hitung metrik evaluasi seperti Accuracy dan F1-Score (Opsional: Precision dan Recall).\n",
        "3. Buat confusion matrix untuk melihat detail prediksi benar dan salah."
      ],
      "metadata": {
        "id": "zOm68u-7NpLT"
      }
    },
    {
      "cell_type": "code",
      "source": [
        "# Gunakan model terbaik (misalnya Random Forest) untuk prediksi\n",
        "best_model = RandomForestClassifier(n_estimators=100, random_state=42)\n",
        "best_model.fit(X_train, y_train)  # Latih ulang jika perlu\n",
        "\n",
        "# Prediksi pada data uji\n",
        "y_pred = best_model.predict(X_test)"
      ],
      "metadata": {
        "id": "tMq4QAssNLip"
      },
      "execution_count": 8,
      "outputs": []
    },
    {
      "cell_type": "code",
      "source": [
        "from sklearn.metrics import accuracy_score, f1_score, precision_score, recall_score\n",
        "\n",
        "# Hitung metrik evaluasi\n",
        "accuracy = accuracy_score(y_test, y_pred)\n",
        "f1 = f1_score(y_test, y_pred, average='weighted')  # Gunakan 'weighted' untuk data dengan distribusi tidak seimbang\n",
        "precision = precision_score(y_test, y_pred, average='weighted')\n",
        "recall = recall_score(y_test, y_pred, average='weighted')\n",
        "\n",
        "# Tampilkan hasil evaluasi\n",
        "print(f\"✅ Accuracy: {accuracy:.4f}\")\n",
        "print(f\"✅ F1-Score: {f1:.4f}\")\n",
        "print(f\"✅ Precision: {precision:.4f}\")\n",
        "print(f\"✅ Recall: {recall:.4f}\")"
      ],
      "metadata": {
        "colab": {
          "base_uri": "https://localhost:8080/"
        },
        "id": "oCCLqvgv0iIe",
        "outputId": "84293c94-bf95-42a0-f139-223f69dd6feb"
      },
      "execution_count": 9,
      "outputs": [
        {
          "output_type": "stream",
          "name": "stdout",
          "text": [
            "✅ Accuracy: 1.0000\n",
            "✅ F1-Score: 1.0000\n",
            "✅ Precision: 1.0000\n",
            "✅ Recall: 1.0000\n"
          ]
        }
      ]
    },
    {
      "cell_type": "code",
      "source": [
        "import seaborn as sns\n",
        "import matplotlib.pyplot as plt\n",
        "from sklearn.metrics import confusion_matrix\n",
        "\n",
        "# Buat confusion matrix\n",
        "cm = confusion_matrix(y_test, y_pred)\n",
        "\n",
        "# Visualisasi confusion matrix\n",
        "plt.figure(figsize=(6, 4))\n",
        "sns.heatmap(cm, annot=True, fmt=\"d\", cmap=\"Blues\", xticklabels=set(y_test), yticklabels=set(y_test))\n",
        "plt.xlabel(\"Predicted Label\")\n",
        "plt.ylabel(\"True Label\")\n",
        "plt.title(\"Confusion Matrix\")\n",
        "plt.show()"
      ],
      "metadata": {
        "colab": {
          "base_uri": "https://localhost:8080/",
          "height": 414
        },
        "id": "7bbBbg_d0j2w",
        "outputId": "5517a511-1582-40e6-a330-3c06505da4eb"
      },
      "execution_count": 10,
      "outputs": [
        {
          "output_type": "display_data",
          "data": {
            "text/plain": [
              "<Figure size 600x400 with 2 Axes>"
            ],
            "image/png": "[encoded data removed]"
          },
          "metadata": {}
        }
      ]
    },
    {
      "cell_type": "markdown",
      "source": [
        "Tulis hasil evaluasi algoritma yang digunakan, jika Anda menggunakan 2 algoritma, maka bandingkan hasilnya."
      ],
      "metadata": {
        "id": "H4_9OwrsXZlz"
      }
    },
    {
      "cell_type": "markdown",
      "source": [
        "## **c. Tuning Model Klasifikasi (Optional)**"
      ],
      "metadata": {
        "id": "ph9yIYDXEPuB"
      }
    },
    {
      "cell_type": "markdown",
      "source": [
        "Gunakan GridSearchCV, RandomizedSearchCV, atau metode lainnya untuk mencari kombinasi hyperparameter terbaik"
      ],
      "metadata": {
        "id": "-Bikx3LINv5e"
      }
    },
    {
      "cell_type": "code",
      "source": [
        "# Definisikan model\n",
        "rf = RandomForestClassifier(random_state=42)\n",
        "\n",
        "# Tentukan parameter yang ingin dioptimasi\n",
        "param_grid = {\n",
        "    'n_estimators': [50, 100, 200],  # Jumlah pohon dalam hutan\n",
        "    'max_depth': [10, 20, None],  # Kedalaman maksimum setiap pohon\n",
        "    'min_samples_split': [2, 5, 10],  # Jumlah minimum sampel untuk split\n",
        "    'min_samples_leaf': [1, 2, 4]  # Jumlah minimum sampel di setiap leaf node\n",
        "}\n",
        "\n",
        "# GridSearchCV dengan cross-validation 5-fold\n",
        "grid_search = GridSearchCV(rf, param_grid, cv=5, scoring='accuracy', n_jobs=-1, verbose=2)\n",
        "grid_search.fit(X_train, y_train)\n",
        "\n",
        "# Tampilkan hasil terbaik\n",
        "print(f\"✅ Best Parameters: {grid_search.best_params_}\")\n",
        "print(f\"✅ Best Accuracy: {grid_search.best_score_:.4f}\")\n",
        "\n",
        "# Simpan model terbaik\n",
        "best_rf = grid_search.best_estimator_\n"
      ],
      "metadata": {
        "id": "winbFzb8NL95",
        "colab": {
          "base_uri": "https://localhost:8080/"
        },
        "outputId": "62a98e0c-b3af-4e1f-b635-40618f593a9d"
      },
      "execution_count": 11,
      "outputs": [
        {
          "output_type": "stream",
          "name": "stdout",
          "text": [
            "Fitting 5 folds for each of 81 candidates, totalling 405 fits\n",
            "✅ Best Parameters: {'max_depth': 20, 'min_samples_leaf': 1, 'min_samples_split': 2, 'n_estimators': 100}\n",
            "✅ Best Accuracy: 0.9989\n"
          ]
        }
      ]
    },
    {
      "cell_type": "code",
      "source": [
        "# Definisikan model\n",
        "rf = RandomForestClassifier(random_state=42)\n",
        "\n",
        "# Tentukan parameter untuk pencarian acak\n",
        "param_dist = {\n",
        "    'n_estimators': np.arange(50, 300, 50),  # 50, 100, 150, 200, 250\n",
        "    'max_depth': [10, 20, None],\n",
        "    'min_samples_split': np.arange(2, 11, 2),  # 2, 4, 6, 8, 10\n",
        "    'min_samples_leaf': np.arange(1, 5)  # 1, 2, 3, 4\n",
        "}\n",
        "\n",
        "# RandomizedSearchCV dengan 10 percobaan acak\n",
        "random_search = RandomizedSearchCV(rf, param_dist, n_iter=10, cv=5, scoring='accuracy', n_jobs=-1, verbose=2, random_state=42)\n",
        "random_search.fit(X_train, y_train)\n",
        "\n",
        "# Tampilkan hasil terbaik\n",
        "print(f\"✅ Best Parameters: {random_search.best_params_}\")\n",
        "print(f\"✅ Best Accuracy: {random_search.best_score_:.4f}\")\n",
        "\n",
        "# Simpan model terbaik\n",
        "best_rf_random = random_search.best_estimator_\n"
      ],
      "metadata": {
        "colab": {
          "base_uri": "https://localhost:8080/"
        },
        "id": "UfKcjWdxSrOY",
        "outputId": "e31f4c77-815b-4b48-970f-b408ccf8b72f"
      },
      "execution_count": 14,
      "outputs": [
        {
          "output_type": "stream",
          "name": "stdout",
          "text": [
            "Fitting 5 folds for each of 10 candidates, totalling 50 fits\n",
            "✅ Best Parameters: {'n_estimators': np.int64(200), 'min_samples_split': np.int64(2), 'min_samples_leaf': np.int64(1), 'max_depth': None}\n",
            "✅ Best Accuracy: 0.9989\n"
          ]
        }
      ]
    },
    {
      "cell_type": "code",
      "source": [
        "# Prediksi menggunakan model terbaik dari GridSearchCV atau RandomizedSearchCV\n",
        "y_pred_best = best_rf.predict(X_test)  # Jika pakai GridSearchCV\n",
        "# y_pred_best = best_rf_random.predict(X_test)  # Jika pakai RandomizedSearchCV\n",
        "\n",
        "# Hitung akurasi\n",
        "accuracy = accuracy_score(y_test, y_pred_best)\n",
        "print(f\"✅ Final Model Accuracy: {accuracy:.4f}\")\n"
      ],
      "metadata": {
        "colab": {
          "base_uri": "https://localhost:8080/"
        },
        "id": "5ZPb6yH2TiOY",
        "outputId": "d4d51a09-99ec-4fcd-88bd-091731d476d9"
      },
      "execution_count": 15,
      "outputs": [
        {
          "output_type": "stream",
          "name": "stdout",
          "text": [
            "✅ Final Model Accuracy: 1.0000\n"
          ]
        }
      ]
    },
    {
      "cell_type": "markdown",
      "source": [
        "## **d. Evaluasi Model Klasifikasi setelah Tuning (Optional)**"
      ],
      "metadata": {
        "id": "hE7pqlEPEYzI"
      }
    },
    {
      "cell_type": "markdown",
      "source": [
        "Berikut adalah rekomendasi tahapannya.\n",
        "1. Gunakan model dengan hyperparameter terbaik.\n",
        "2. Hitung ulang metrik evaluasi untuk melihat apakah ada peningkatan performa."
      ],
      "metadata": {
        "id": "feaPESoeN0zz"
      }
    },
    {
      "cell_type": "code",
      "source": [
        "# Gunakan model terbaik dari GridSearchCV atau RandomizedSearchCV\n",
        "best_model = grid_search.best_estimator_  # Jika menggunakan GridSearchCV\n",
        "# best_model = random_search.best_estimator_  # Jika menggunakan RandomizedSearchCV"
      ],
      "metadata": {
        "id": "HTXZRvEeNMb1"
      },
      "execution_count": 16,
      "outputs": []
    },
    {
      "cell_type": "code",
      "source": [
        "# Prediksi menggunakan model terbaik\n",
        "y_pred_best = best_model.predict(X_test)"
      ],
      "metadata": {
        "id": "RTSaSCpYT7Jt"
      },
      "execution_count": 17,
      "outputs": []
    },
    {
      "cell_type": "code",
      "source": [
        "# Evaluasi model terbaik\n",
        "accuracy = accuracy_score(y_test, y_pred_best)\n",
        "f1 = f1_score(y_test, y_pred_best, average='weighted')\n",
        "precision = precision_score(y_test, y_pred_best, average='weighted')\n",
        "recall = recall_score(y_test, y_pred_best, average='weighted')\n",
        "\n",
        "# Tampilkan hasil evaluasi\n",
        "print(f\"✅ Final Model Accuracy: {accuracy:.4f}\")\n",
        "print(f\"✅ Final F1-Score: {f1:.4f}\")\n",
        "print(f\"✅ Final Precision: {precision:.4f}\")\n",
        "print(f\"✅ Final Recall: {recall:.4f}\")\n"
      ],
      "metadata": {
        "colab": {
          "base_uri": "https://localhost:8080/"
        },
        "id": "xzBvJtG-UCOm",
        "outputId": "30f60c0c-500d-4cd9-8e3e-3a83c0f26b18"
      },
      "execution_count": 18,
      "outputs": [
        {
          "output_type": "stream",
          "name": "stdout",
          "text": [
            "✅ Final Model Accuracy: 1.0000\n",
            "✅ Final F1-Score: 1.0000\n",
            "✅ Final Precision: 1.0000\n",
            "✅ Final Recall: 1.0000\n"
          ]
        }
      ]
    },
    {
      "cell_type": "markdown",
      "source": [
        "## **e. Analisis Hasil Evaluasi Model Klasifikasi**"
      ],
      "metadata": {
        "id": "ZRsOdm4uEgAW"
      }
    },
    {
      "cell_type": "markdown",
      "source": [
        "Berikut adalah **rekomendasi** tahapannya.\n",
        "1. Bandingkan hasil evaluasi sebelum dan setelah tuning (jika dilakukan).\n",
        "2. Identifikasi kelemahan model, seperti:\n",
        "  - Precision atau Recall rendah untuk kelas tertentu.\n",
        "  - Apakah model mengalami overfitting atau underfitting?\n",
        "3. Berikan rekomendasi tindakan lanjutan, seperti mengumpulkan data tambahan atau mencoba algoritma lain jika hasil belum memuaskan."
      ],
      "metadata": {
        "id": "Hm3BhSi6N4_l"
      }
    },
    {
      "cell_type": "code",
      "source": [
        "# Evaluasi sebelum tuning (gunakan nilai dari model awal)\n",
        "accuracy_before = 0.85  # Gantilah dengan nilai sebelum tuning\n",
        "f1_before = 0.82\n",
        "precision_before = 0.83\n",
        "recall_before = 0.81\n",
        "\n",
        "# Evaluasi setelah tuning (gunakan hasil terbaik dari GridSearchCV atau RandomizedSearchCV)\n",
        "accuracy_after = accuracy_score(y_test, y_pred_best)\n",
        "f1_after = f1_score(y_test, y_pred_best, average='weighted')\n",
        "precision_after = precision_score(y_test, y_pred_best, average='weighted')\n",
        "recall_after = recall_score(y_test, y_pred_best, average='weighted')\n",
        "\n",
        "# Bandingkan hasilnya\n",
        "print(\"📊 Perbandingan Hasil Sebelum dan Sesudah Tuning:\")\n",
        "print(f\"Accuracy  : Sebelum = {accuracy_before:.4f} | Sesudah = {accuracy_after:.4f}\")\n",
        "print(f\"F1-Score  : Sebelum = {f1_before:.4f} | Sesudah = {f1_after:.4f}\")\n",
        "print(f\"Precision : Sebelum = {precision_before:.4f} | Sesudah = {precision_after:.4f}\")\n",
        "print(f\"Recall    : Sebelum = {recall_before:.4f} | Sesudah = {recall_after:.4f}\")"
      ],
      "metadata": {
        "colab": {
          "base_uri": "https://localhost:8080/"
        },
        "id": "8ba5mKFMUSFX",
        "outputId": "586097b4-70df-4545-ebc9-eb24c9b0cb4a"
      },
      "execution_count": 19,
      "outputs": [
        {
          "output_type": "stream",
          "name": "stdout",
          "text": [
            "📊 Perbandingan Hasil Sebelum dan Sesudah Tuning:\n",
            "Accuracy  : Sebelum = 0.8500 | Sesudah = 1.0000\n",
            "F1-Score  : Sebelum = 0.8200 | Sesudah = 1.0000\n",
            "Precision : Sebelum = 0.8300 | Sesudah = 1.0000\n",
            "Recall    : Sebelum = 0.8100 | Sesudah = 1.0000\n"
          ]
        }
      ]
    },
    {
      "cell_type": "code",
      "source": [
        "from sklearn.metrics import classification_report\n",
        "\n",
        "print(\"📌 Classification Report:\")\n",
        "print(classification_report(y_test, y_pred_best))"
      ],
      "metadata": {
        "colab": {
          "base_uri": "https://localhost:8080/"
        },
        "id": "sStxLSgpUU5Q",
        "outputId": "aae082cd-d94e-4951-fe63-726e0246fa48"
      },
      "execution_count": 20,
      "outputs": [
        {
          "output_type": "stream",
          "name": "stdout",
          "text": [
            "📌 Classification Report:\n",
            "              precision    recall  f1-score   support\n",
            "\n",
            "           0       1.00      1.00      1.00        39\n",
            "           1       1.00      1.00      1.00        40\n",
            "           2       1.00      1.00      1.00        40\n",
            "           3       1.00      1.00      1.00        40\n",
            "           4       1.00      1.00      1.00        39\n",
            "           5       1.00      1.00      1.00        40\n",
            "           6       1.00      1.00      1.00        40\n",
            "           7       1.00      1.00      1.00        40\n",
            "           8       1.00      1.00      1.00        39\n",
            "           9       1.00      1.00      1.00        39\n",
            "          10       1.00      1.00      1.00        40\n",
            "          11       1.00      1.00      1.00        40\n",
            "          12       1.00      1.00      1.00        39\n",
            "          13       1.00      1.00      1.00        39\n",
            "          14       1.00      1.00      1.00        40\n",
            "          15       1.00      1.00      1.00        39\n",
            "          16       1.00      1.00      1.00        39\n",
            "          17       1.00      1.00      1.00        40\n",
            "          18       1.00      1.00      1.00        40\n",
            "          19       1.00      1.00      1.00        39\n",
            "          20       1.00      1.00      1.00        40\n",
            "          21       1.00      1.00      1.00        39\n",
            "          22       1.00      1.00      1.00        40\n",
            "          23       1.00      1.00      1.00        40\n",
            "          24       1.00      1.00      1.00        39\n",
            "          25       1.00      1.00      1.00        40\n",
            "          26       1.00      1.00      1.00        39\n",
            "          27       1.00      1.00      1.00        40\n",
            "          28       1.00      1.00      1.00        40\n",
            "          29       1.00      1.00      1.00        39\n",
            "          30       1.00      1.00      1.00        40\n",
            "          31       1.00      1.00      1.00        40\n",
            "          32       1.00      1.00      1.00        40\n",
            "          33       1.00      1.00      1.00        39\n",
            "          34       1.00      1.00      1.00        40\n",
            "\n",
            "    accuracy                           1.00      1386\n",
            "   macro avg       1.00      1.00      1.00      1386\n",
            "weighted avg       1.00      1.00      1.00      1386\n",
            "\n"
          ]
        }
      ]
    },
    {
      "cell_type": "code",
      "source": [
        "train_accuracy = accuracy_score(y_train, best_model.predict(X_train))\n",
        "test_accuracy = accuracy_score(y_test, y_pred_best)\n",
        "\n",
        "print(f\"📊 Training Accuracy: {train_accuracy:.4f}\")\n",
        "print(f\"📊 Testing Accuracy : {test_accuracy:.4f}\")"
      ],
      "metadata": {
        "colab": {
          "base_uri": "https://localhost:8080/"
        },
        "id": "K-_hp6ejUY3e",
        "outputId": "8e651a04-d42c-45c6-e53d-51c81aeb8037"
      },
      "execution_count": 21,
      "outputs": [
        {
          "output_type": "stream",
          "name": "stdout",
          "text": [
            "📊 Training Accuracy: 1.0000\n",
            "📊 Testing Accuracy : 1.0000\n"
          ]
        }
      ]
    },
    {
      "cell_type": "markdown",
      "source": [
        "- Jika model mengalami overfitting:\n",
        "\n",
        "Coba kurangi kompleksitas model (misalnya, turunkan max_depth untuk Decision Tree atau n_estimators untuk Random Forest).\n",
        "\n",
        "Tambahkan regularisasi jika menggunakan Logistic Regression atau SVM.\n",
        "\n",
        "Tambahkan lebih banyak data latih atau gunakan teknik data augmentation jika memungkinkan.\n",
        "\n",
        "- Jika model mengalami underfitting:\n",
        "\n",
        "Gunakan model yang lebih kompleks (misalnya, dari Decision Tree ke Random Forest atau XGBoost).\n",
        "\n",
        "Tambahkan lebih banyak fitur penting (Feature Engineering).\n",
        "\n",
        "Gunakan lebih banyak data latih.\n",
        "\n",
        "- Jika Precision atau Recall rendah untuk kelas tertentu:\n",
        "\n",
        "Coba resampling data (oversampling untuk kelas minoritas atau undersampling untuk kelas mayoritas).\n",
        "\n",
        "Gunakan cost-sensitive learning untuk memberi bobot lebih pada kelas yang sulit diprediksi.\n",
        "\n",
        "- Jika hasil belum memuaskan:\n",
        "\n",
        "Coba model lain seperti XGBoost, LightGBM, atau Neural Networks.\n",
        "\n",
        "Evaluasi kembali preprocessing data (mungkin ada fitur yang perlu diubah atau ditambahkan)."
      ],
      "metadata": {
        "id": "eHM_YfN4UntQ"
      }
    }
  ]
}